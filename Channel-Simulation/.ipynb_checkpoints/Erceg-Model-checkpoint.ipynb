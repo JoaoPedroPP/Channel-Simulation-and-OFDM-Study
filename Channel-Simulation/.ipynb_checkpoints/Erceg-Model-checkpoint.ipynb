{
 "cells": [
  {
   "cell_type": "markdown",
   "metadata": {},
   "source": [
    "<h1 style='text-align:center'>Simulação de Canal de Comunicação segundo Modelo Erceg</h1>"
   ]
  },
  {
   "cell_type": "code",
   "execution_count": 1,
   "metadata": {},
   "outputs": [
    {
     "name": "stderr",
     "output_type": "stream",
     "text": [
      "UsageError: Line magic function `%%latex` not found.\n"
     ]
    }
   ],
   "source": [
    "import numpy as np\n",
    "import random\n",
    "import matplotlib.pyplot as plt\n",
    "from PIL import Image\n",
    "import math\n",
    "import matplotlib.pyplot as plt\n",
    "import matplotlib.image as mpimg\n",
    "\n",
    "%%latex"
   ]
  },
  {
   "cell_type": "markdown",
   "metadata": {},
   "source": [
    "O modelo Erceg foi construído e estudado de acordo com o dado experimentais coletados pela AT&T Wireless Service em 95 estações dentro dos EUA operando a 1,9GHz. O modelo enumera três categorias de terrenos que provocam perdas no sinal e eles são divididos da seguinte maneira; a categoria A representa terrenos com morros e colinas e com alta de densidade de obejetos no caminho do sinal, o que representa uma alta perda de percurso. Categoria C representa um terreno plano com baixa densidade de objetos no caminho do sinal, representando uma baixa perda do sinal, já a categoria B é constituída por terrenos montanhososo com baixa densidade de objetos ou terrenos plano com densidade consideravel de objetos no caminho do sinal, basicamente a categoria B representa um meio termo entre as categorias A e C, com perda de sinal mediana quando compara com as outras.\n",
    "\n",
    "Para todas as três categorias o caminho de perda mediana é representada pela mesma equação com a condição de $d > d_0$, no caso a seguinte equação.$$\n",
    "\\begin{equation}\\label{eq:erceg}\n",
    "    P_L(dB) = 20\\log_{10}(4\\pi d_0/\\lambda)+10\\gamma \\log_{10}(d/d_0)+s\n",
    "\\end{equation}\n",
    "$$Onde $\\lambda$ é o comprimento de onda do sinal, s é o efeito de sombreamento do sinal, $\\gamma$ representa o caminho de menor perda considerando as três categorias do modelo, representado pela seguinte equação \n",
    "$$\n",
    "\\gamma = a - bh_b + c/h_b\n",
    "$$\n",
    "$h_b$ representa a altura da estação base em metros, normalmente entre 10 e 80m, $d_0=100m$ e os valores nominais de a, b e c variam de acordo com a catgoria do terrenos, seus valores variam de acordo a seguinte tabela:\n",
    "\n",
    "|Parametro|Categoria A|Categoria B|Categoria C|\n",
    "|---------|-----------|-----------|-----------|\n",
    "|a|4,6|3|3,6|\n",
    "|b|0,0076|0,0065|0,005|\n",
    "|c|12,6|17,1|20|\n",
    "\n",
    "\n",
    "\n"
   ]
  },
  {
   "cell_type": "markdown",
   "metadata": {},
   "source": [
    "Definiçao das variáveis $d_0$, $h_b$ e $s$"
   ]
  },
  {
   "cell_type": "code",
   "execution_count": 2,
   "metadata": {},
   "outputs": [],
   "source": [
    "d0 = 100\n",
    "hb = 50\n",
    "s = 6\n",
    "f = 1900000000"
   ]
  },
  {
   "cell_type": "markdown",
   "metadata": {},
   "source": [
    "Definição das distâncias a serem simuladas"
   ]
  },
  {
   "cell_type": "code",
   "execution_count": 3,
   "metadata": {},
   "outputs": [],
   "source": [
    "d = np.arange(1, 1000, 1)"
   ]
  },
  {
   "cell_type": "markdown",
   "metadata": {},
   "source": [
    "Construção dos arrays das categorias"
   ]
  },
  {
   "cell_type": "code",
   "execution_count": 4,
   "metadata": {},
   "outputs": [],
   "source": [
    "a = np.array([4.6, 3, 3.6])\n",
    "b = np.array([0.0076, 0.0065, 0.005])\n",
    "c = np.array([12.6, 17.1, 20])"
   ]
  },
  {
   "cell_type": "markdown",
   "metadata": {},
   "source": [
    "Array com os valores de gamma"
   ]
  },
  {
   "cell_type": "code",
   "execution_count": 5,
   "metadata": {},
   "outputs": [],
   "source": [
    "gamma = [a[i]-b[i]*hb+c[i]/hb for i in range(3)]"
   ]
  },
  {
   "cell_type": "markdown",
   "metadata": {},
   "source": [
    "Com os valores instânciados podemos analisar a resposta para cada uma das três situações"
   ]
  },
  {
   "cell_type": "code",
   "execution_count": 6,
   "metadata": {},
   "outputs": [],
   "source": [
    "v1 = 20*np.log10(4*math.pi*d0*f/300000000)+10*gamma[0]*np.log10(d/d0)+s\n",
    "v2 = 20*np.log10(4*math.pi*d0*f/300000000)+10*gamma[1]*np.log10(d/d0)+s\n",
    "v3 = 20*np.log10(4*math.pi*d0*f/300000000)+10*gamma[2]*np.log10(d/d0)+s"
   ]
  },
  {
   "cell_type": "markdown",
   "metadata": {},
   "source": [
    "Plotando os resultados obtidos"
   ]
  },
  {
   "cell_type": "code",
   "execution_count": 7,
   "metadata": {},
   "outputs": [
    {
     "data": {
      "text/plain": [
       "<matplotlib.legend.Legend at 0x7f01d42922b0>"
      ]
     },
     "execution_count": 7,
     "metadata": {},
     "output_type": "execute_result"
    },
    {
     "data": {
      "image/png": "[encoded data removed]",
      "text/plain": [
       "<Figure size 432x288 with 1 Axes>"
      ]
     },
     "metadata": {
      "needs_background": "light"
     },
     "output_type": "display_data"
    }
   ],
   "source": [
    "plt.plot(d, v1, label='Categoria A')\n",
    "plt.plot(d, v2, label='Categoria B')\n",
    "plt.plot(d, v3, label='Categoria C')\n",
    "\n",
    "plt.xlabel('Distancia entre estacao movel e a base [m]')\n",
    "plt.ylabel('Perda de potencia incidente na estacao movel [db]')\n",
    "plt.legend()\n",
    "# plt.title('Perda de Potencia em funcao da distancia entre estacao movel e base')"
   ]
  },
  {
   "cell_type": "markdown",
   "metadata": {},
   "source": [
    "Analisando as curva obtidas em função da distância entre a estação rádio base e o dispositivo móvel podemos verificar para distâncias $d<d_0$ as curvas apresentam comportamento similar, apresentado perdas de potência próximas, um forte indicativo de que os fatores usados para compor o modelo Erceg entregam praticamente os mesmos valores independente da categoria do terreno por onde sinal se propaga. É interessante notar que as divergência entre as curvas para cada categoria se tornam evidentes quando $d>2d_0$, fazendo as curvas divergirem."
   ]
  },
  {
   "cell_type": "markdown",
   "metadata": {},
   "source": [
    "Um ponto interessante a se simular é fixar a distância entre a estação rádio móvel, no caso para as três situações possíveis, $d<d_0$, $d=d_0$ e $d>d_0$ e verificar o comportamento de uma frequencia variavel, alguns limites para esse caso são importantes pois o modelo Erceg foi projetado para trabalhar com frequências próximas de 2GHz, logo não faz sentido simular algo para todo o espectro, logo a simulação foi centrada em 2GHz com uma faixa de $+/-$300MHz, ou seja, foi simulado o comportamento da perda de potência para uma distância fixa para a faixa de frequência iniciando em 1,7GHz e finalizando em 2,3GHz no passo de 100KHz."
   ]
  },
  {
   "cell_type": "code",
   "execution_count": 14,
   "metadata": {},
   "outputs": [],
   "source": [
    "fval = np.arange(1700000000, 2300000000, 100000)\n",
    "fv1 = 20*np.log10(4*math.pi*d0*fval/300000000)+10*gamma[0]*np.log10(100/d0)+s\n",
    "fv2 = 20*np.log10(4*math.pi*d0*fval/300000000)+10*gamma[1]*np.log10(100/d0)+s\n",
    "fv3 = 20*np.log10(4*math.pi*d0*fval/300000000)+10*gamma[2]*np.log10(100/d0)+s\n",
    "\n",
    "fv4 = 20*np.log10(4*math.pi*d0*fval/300000000)+10*gamma[0]*np.log10(50/d0)+s\n",
    "fv5 = 20*np.log10(4*math.pi*d0*fval/300000000)+10*gamma[1]*np.log10(50/d0)+s\n",
    "fv6 = 20*np.log10(4*math.pi*d0*fval/300000000)+10*gamma[2]*np.log10(50/d0)+s\n",
    "\n",
    "fv7 = 20*np.log10(4*math.pi*d0*fval/300000000)+10*gamma[0]*np.log10(200/d0)+s\n",
    "fv8 = 20*np.log10(4*math.pi*d0*fval/300000000)+10*gamma[1]*np.log10(200/d0)+s\n",
    "fv9 = 20*np.log10(4*math.pi*d0*fval/300000000)+10*gamma[2]*np.log10(200/d0)+s"
   ]
  },
  {
   "cell_type": "code",
   "execution_count": 15,
   "metadata": {},
   "outputs": [
    {
     "data": {
      "text/plain": [
       "<matplotlib.legend.Legend at 0x7f01d409bd30>"
      ]
     },
     "execution_count": 15,
     "metadata": {},
     "output_type": "execute_result"
    },
    {
     "data": {
      "image/png": "[encoded data removed]",
      "text/plain": [
       "<Figure size 432x288 with 1 Axes>"
      ]
     },
     "metadata": {
      "needs_background": "light"
     },
     "output_type": "display_data"
    }
   ],
   "source": [
    "plt.plot(fval, fv1, label='Categoria A d=d0')\n",
    "plt.plot(fval, fv2, label='Categoria B d=d0')\n",
    "plt.plot(fval, fv3, label='Categoria C d=d0')\n",
    "\n",
    "plt.plot(fval, fv4, label='Categoria A d<d0')\n",
    "plt.plot(fval, fv5, label='Categoria B d<d0')\n",
    "plt.plot(fval, fv6, label='Categoria C d<d0')\n",
    "\n",
    "plt.plot(fval, fv7, label='Categoria A d>d0')\n",
    "plt.plot(fval, fv8, label='Categoria B d>d0')\n",
    "plt.plot(fval, fv9, label='Categoria C d>d0')\n",
    "\n",
    "plt.xlabel('Frequencia do sinal')\n",
    "plt.ylabel('Perda de potencia incidente na estacao movel [db]')\n",
    "plt.legend()"
   ]
  },
  {
   "cell_type": "markdown",
   "metadata": {},
   "source": [
    "Analisando as curvas geradas, chama atenção que quando $d=d_0$ as curvas são iguais, ou seja, independente da categoria a variação da frequência produz o mesmo resultado, contudo este comportamente era previsto pelo modelo pois com $d=d_0$ o termo que depende das categorias de terreno é anulado do modelo, fazendo com que ele dependesse apenas da frequência.\n",
    "\n",
    "Para distâncias $d<d_0$ o modelo apresenta baixa perdas quando comparado com os outros casos simulados, configurando este como o caso ideal de uso. Para distâncias $d>d_0$ o modelo já apresenta perdas maiores quando colocado em comparação com as outras curvas geradas."
   ]
  },
  {
   "cell_type": "markdown",
   "metadata": {},
   "source": [
    "Outra simulacao possivel seria variar a altura da torre fixando a uma frequencia e um $d$ especifico assim seria possivel enteder qual a relacao da alura da torre"
   ]
  },
  {
   "cell_type": "markdown",
   "metadata": {},
   "source": [
    "http://citeseerx.ist.psu.edu/viewdoc/download?doi=10.1.1.210.3876&rep=rep1&type=pdf\n",
    "http://morse.colorado.edu/~tlen5510/text/classwebch3.html\n",
    "https://www.mathworks.com/matlabcentral/fileexchange/39322-erceg-model\n",
    "https://jupyter-notebook.readthedocs.io/en/stable/examples/Notebook/Working%20With%20Markdown%20Cells.html"
   ]
  },
  {
   "cell_type": "markdown",
   "metadata": {},
   "source": [
    "<h1 style='text-align:center'>Simulação de Propagacao em Multipercurso</h1>"
   ]
  },
  {
   "cell_type": "markdown",
   "metadata": {},
   "source": [
    "$$X(t)=X_c(t)+jX_s(t)$$\n",
    "$$X_c(t)=\\dfrac{2}{\\sqrt M}\\sum_{n=1}^{M}\\cos (\\Psi_n)\\cos (\\omega_d t \\cos a_n + \\phi)$$\n",
    "$$X_s(t)=\\dfrac{2}{\\sqrt M}\\sum_{n=1}^{M}\\sin (\\Psi_n)\\cos (\\omega_d t \\cos a_n + \\phi)$$\n",
    "$$a_n = \\dfrac{2\\pi n - \\pi + \\theta}{4M}$$\n",
    "\n",
    "Onde $\\theta$, $\\phi$ e $\\Psi_n$ sao estatisticamente independente, variando entre $[-\\pi,\\pi)$ para todo $n$. A simulacao do artigo foi testada com $M = 8$\n",
    "\n",
    "A expressão pode ser manilpulada de forma a reunir todos os fatores em uma única expressão.\n",
    "$$\n",
    "X_k(t)= \\sqrt{\\dfrac{2}{M}} \\left\\{ \\sum_{n=1}^{M}\\cos (\\Psi_{n,k})\\cos \\left[\\omega_d t \\cos \\left(\\dfrac{2\\pi n - \\pi + \\theta}{4M}\\right) + \\phi_k \\right] \\right\\} + j\\left\\{ \\sum_{n=1}^{M}\\sin (\\Psi_{n,k})\\cos \\left[\\omega_d t \\cos \\left(\\dfrac{2\\pi n - \\pi + \\theta}{4M}\\right) + \\phi_k \\right] \\right\\}\n",
    "$$"
   ]
  },
  {
   "cell_type": "markdown",
   "metadata": {},
   "source": [
    "Primeiro é preciso instanciar as bibliotecas para gerar um distribuição uniforme para $\\theta$, $\\phi$ e $\\Psi_n$ entre $[-\\pi,\\pi)$"
   ]
  },
  {
   "cell_type": "code",
   "execution_count": 16,
   "metadata": {},
   "outputs": [],
   "source": [
    "import random"
   ]
  },
  {
   "cell_type": "code",
   "execution_count": 170,
   "metadata": {},
   "outputs": [
    {
     "name": "stdout",
     "output_type": "stream",
     "text": [
      "[ 0.16894541+0.03640764j -0.09685047-0.31081219j  0.36910225-0.07887403j\n",
      " -0.47836453-0.13632683j -0.36197013+0.18670445j  0.3993364 -0.28533291j\n",
      " -0.34938184+0.03167521j  0.24443956+0.43130178j]\n"
     ]
    }
   ],
   "source": [
    "# esta faltando considerar na formula o tempo mas fiquei confuso em como colocar ele\n",
    "\n",
    "M = 8\n",
    "const = np.sqrt(2/M)\n",
    "Xk = []\n",
    "\n",
    "for n in range(M):\n",
    "    theta_multi = random.uniform(-np.pi, np.pi)\n",
    "    phi_multi = random.uniform(-np.pi, np.pi)\n",
    "    psi_multi = random.uniform(-np.pi, np.pi)\n",
    "    \n",
    "    a_n = (2*np.pi*n-np.pi+theta_multi)/(4*M)\n",
    "    \n",
    "    real = np.cos(psi_multi)*np.cos(2*np.pi*np.cos(a_n+phi_multi))\n",
    "    imag = np.sin(psi_multi)*np.cos(2*np.pi*np.cos(a_n+phi_multi))\n",
    "    \n",
    "    Xk.append(const*np.complex(real, imag))\n",
    "    \n",
    "Xk = np.array(Xk)\n",
    "print(Xk)\n",
    "    "
   ]
  },
  {
   "cell_type": "code",
   "execution_count": null,
   "metadata": {},
   "outputs": [],
   "source": []
  }
 ],
 "metadata": {
  "kernelspec": {
   "display_name": "Python 3",
   "language": "python",
   "name": "python3"
  },
  "language_info": {
   "codemirror_mode": {
    "name": "ipython",
    "version": 3
   },
   "file_extension": ".py",
   "mimetype": "text/x-python",
   "name": "python",
   "nbconvert_exporter": "python",
   "pygments_lexer": "ipython3",
   "version": "3.7.1"
  }
 },
 "nbformat": 4,
 "nbformat_minor": 2
}
